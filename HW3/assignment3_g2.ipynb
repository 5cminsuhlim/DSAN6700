{
  "cells": [
    {
      "cell_type": "markdown",
      "source": [
        "# Setup for Google Colab"
      ],
      "metadata": {
        "id": "lfDmHu3l-j0c"
      },
      "id": "lfDmHu3l-j0c"
    },
    {
      "cell_type": "code",
      "source": [
        "from google.colab import drive\n",
        "drive.mount('/content/drive')"
      ],
      "metadata": {
        "colab": {
          "base_uri": "https://localhost:8080/"
        },
        "id": "XLATzdWW-jW9",
        "outputId": "1cb44676-6b6a-46a3-caaf-7e9f8d4167e4"
      },
      "id": "XLATzdWW-jW9",
      "execution_count": 17,
      "outputs": [
        {
          "output_type": "stream",
          "name": "stdout",
          "text": [
            "Drive already mounted at /content/drive; to attempt to forcibly remount, call drive.mount(\"/content/drive\", force_remount=True).\n"
          ]
        }
      ]
    },
    {
      "cell_type": "markdown",
      "id": "64643375",
      "metadata": {
        "id": "64643375"
      },
      "source": [
        "# 6. Data Preparation (7 Points):"
      ]
    },
    {
      "cell_type": "code",
      "execution_count": 18,
      "id": "52946890",
      "metadata": {
        "id": "52946890"
      },
      "outputs": [],
      "source": [
        "#Importing all relevant packages\n",
        "import pandas as pd\n",
        "import matplotlib.pyplot as plt\n",
        "import numpy as np\n",
        "import seaborn as sns\n",
        "import plotly.express as px\n",
        "from sklearn.model_selection import train_test_split\n",
        "from matplotlib import rcParams\n",
        "from sklearn.model_selection import cross_val_score, RepeatedKFold\n",
        "from sklearn.metrics import accuracy_score, classification_report\n",
        "from sklearn.linear_model import LogisticRegression\n",
        "from sklearn.neighbors import KNeighborsClassifier\n",
        "from sklearn.tree import DecisionTreeClassifier\n",
        "from sklearn.svm import SVC\n",
        "from sklearn.naive_bayes import GaussianNB\n",
        "from sklearn.ensemble import AdaBoostClassifier, RandomForestClassifier, BaggingClassifier, GradientBoostingClassifier, StackingClassifier\n",
        "from xgboost import XGBClassifier\n",
        "from sklearn.metrics import confusion_matrix\n",
        "import pickle\n",
        "from plotly.subplots import make_subplots\n",
        "import plotly.graph_objs as go\n",
        "from sklearn.impute import SimpleImputer\n",
        "from sklearn.model_selection import GridSearchCV\n",
        "from sklearn.preprocessing import MinMaxScaler\n",
        "from sklearn.model_selection import RepeatedStratifiedKFold\n",
        "from sklearn.model_selection import RandomizedSearchCV\n",
        "from scipy.stats import loguniform\n",
        "import plotly.offline as pyo"
      ]
    },
    {
      "cell_type": "markdown",
      "id": "7374a7b3",
      "metadata": {
        "id": "7374a7b3"
      },
      "source": [
        "# 6.1 Load the dataset and display the dataframe (2 Points)."
      ]
    },
    {
      "cell_type": "code",
      "execution_count": 19,
      "id": "ffe74fc7",
      "metadata": {
        "colab": {
          "base_uri": "https://localhost:8080/",
          "height": 257
        },
        "id": "ffe74fc7",
        "outputId": "d88bbb86-4a87-42a0-e585-8b4ac614690a"
      },
      "outputs": [
        {
          "output_type": "execute_result",
          "data": {
            "text/plain": [
              "   Administrative  AdministrativeDuration  Informational  \\\n",
              "0               0                     0.0              0   \n",
              "1               0                     0.0              0   \n",
              "2               0                     0.0              0   \n",
              "3               0                     0.0              0   \n",
              "4               0                     0.0              0   \n",
              "5               0                     0.0              0   \n",
              "\n",
              "   InformationalDuration  ProductRelated  ProductRelatedDuration  BounceRates  \\\n",
              "0                    0.0               1                0.000000     0.200000   \n",
              "1                    0.0               2               64.000000     0.000000   \n",
              "2                    0.0               1                0.000000     0.200000   \n",
              "3                    0.0               2                2.666667     0.050000   \n",
              "4                    0.0              10              627.500000     0.020000   \n",
              "5                    0.0              19              154.216667     0.015789   \n",
              "\n",
              "   ExitRates  PageValues  SpecialDay  Month  OperatingSystems  Browser  \\\n",
              "0   0.200000         0.0         0.0    2.0                 1        1   \n",
              "1   0.100000         0.0         0.0    2.0                 2        2   \n",
              "2   0.200000         0.0         0.0    2.0                 4        1   \n",
              "3   0.140000         0.0         0.0    2.0                 3        2   \n",
              "4   0.050000         0.0         0.0    2.0                 3        3   \n",
              "5   0.024561         0.0         0.0    2.0                 2        2   \n",
              "\n",
              "   Region  TrafficType  VisitorTypeNumeric  Weekend  Revenue  \n",
              "0       1            1                   1        0        0  \n",
              "1       1            2                   1        0        0  \n",
              "2       9            3                   1        0        0  \n",
              "3       2            4                   1        0        0  \n",
              "4       1            4                   1        1        0  \n",
              "5       1            3                   1        0        0  "
            ],
            "text/html": [
              "\n",
              "  <div id=\"df-0af45df2-f580-41dc-b81e-1f222a13e94f\" class=\"colab-df-container\">\n",
              "    <div>\n",
              "<style scoped>\n",
              "    .dataframe tbody tr th:only-of-type {\n",
              "        vertical-align: middle;\n",
              "    }\n",
              "\n",
              "    .dataframe tbody tr th {\n",
              "        vertical-align: top;\n",
              "    }\n",
              "\n",
              "    .dataframe thead th {\n",
              "        text-align: right;\n",
              "    }\n",
              "</style>\n",
              "<table border=\"1\" class=\"dataframe\">\n",
              "  <thead>\n",
              "    <tr style=\"text-align: right;\">\n",
              "      <th></th>\n",
              "      <th>Administrative</th>\n",
              "      <th>AdministrativeDuration</th>\n",
              "      <th>Informational</th>\n",
              "      <th>InformationalDuration</th>\n",
              "      <th>ProductRelated</th>\n",
              "      <th>ProductRelatedDuration</th>\n",
              "      <th>BounceRates</th>\n",
              "      <th>ExitRates</th>\n",
              "      <th>PageValues</th>\n",
              "      <th>SpecialDay</th>\n",
              "      <th>Month</th>\n",
              "      <th>OperatingSystems</th>\n",
              "      <th>Browser</th>\n",
              "      <th>Region</th>\n",
              "      <th>TrafficType</th>\n",
              "      <th>VisitorTypeNumeric</th>\n",
              "      <th>Weekend</th>\n",
              "      <th>Revenue</th>\n",
              "    </tr>\n",
              "  </thead>\n",
              "  <tbody>\n",
              "    <tr>\n",
              "      <th>0</th>\n",
              "      <td>0</td>\n",
              "      <td>0.0</td>\n",
              "      <td>0</td>\n",
              "      <td>0.0</td>\n",
              "      <td>1</td>\n",
              "      <td>0.000000</td>\n",
              "      <td>0.200000</td>\n",
              "      <td>0.200000</td>\n",
              "      <td>0.0</td>\n",
              "      <td>0.0</td>\n",
              "      <td>2.0</td>\n",
              "      <td>1</td>\n",
              "      <td>1</td>\n",
              "      <td>1</td>\n",
              "      <td>1</td>\n",
              "      <td>1</td>\n",
              "      <td>0</td>\n",
              "      <td>0</td>\n",
              "    </tr>\n",
              "    <tr>\n",
              "      <th>1</th>\n",
              "      <td>0</td>\n",
              "      <td>0.0</td>\n",
              "      <td>0</td>\n",
              "      <td>0.0</td>\n",
              "      <td>2</td>\n",
              "      <td>64.000000</td>\n",
              "      <td>0.000000</td>\n",
              "      <td>0.100000</td>\n",
              "      <td>0.0</td>\n",
              "      <td>0.0</td>\n",
              "      <td>2.0</td>\n",
              "      <td>2</td>\n",
              "      <td>2</td>\n",
              "      <td>1</td>\n",
              "      <td>2</td>\n",
              "      <td>1</td>\n",
              "      <td>0</td>\n",
              "      <td>0</td>\n",
              "    </tr>\n",
              "    <tr>\n",
              "      <th>2</th>\n",
              "      <td>0</td>\n",
              "      <td>0.0</td>\n",
              "      <td>0</td>\n",
              "      <td>0.0</td>\n",
              "      <td>1</td>\n",
              "      <td>0.000000</td>\n",
              "      <td>0.200000</td>\n",
              "      <td>0.200000</td>\n",
              "      <td>0.0</td>\n",
              "      <td>0.0</td>\n",
              "      <td>2.0</td>\n",
              "      <td>4</td>\n",
              "      <td>1</td>\n",
              "      <td>9</td>\n",
              "      <td>3</td>\n",
              "      <td>1</td>\n",
              "      <td>0</td>\n",
              "      <td>0</td>\n",
              "    </tr>\n",
              "    <tr>\n",
              "      <th>3</th>\n",
              "      <td>0</td>\n",
              "      <td>0.0</td>\n",
              "      <td>0</td>\n",
              "      <td>0.0</td>\n",
              "      <td>2</td>\n",
              "      <td>2.666667</td>\n",
              "      <td>0.050000</td>\n",
              "      <td>0.140000</td>\n",
              "      <td>0.0</td>\n",
              "      <td>0.0</td>\n",
              "      <td>2.0</td>\n",
              "      <td>3</td>\n",
              "      <td>2</td>\n",
              "      <td>2</td>\n",
              "      <td>4</td>\n",
              "      <td>1</td>\n",
              "      <td>0</td>\n",
              "      <td>0</td>\n",
              "    </tr>\n",
              "    <tr>\n",
              "      <th>4</th>\n",
              "      <td>0</td>\n",
              "      <td>0.0</td>\n",
              "      <td>0</td>\n",
              "      <td>0.0</td>\n",
              "      <td>10</td>\n",
              "      <td>627.500000</td>\n",
              "      <td>0.020000</td>\n",
              "      <td>0.050000</td>\n",
              "      <td>0.0</td>\n",
              "      <td>0.0</td>\n",
              "      <td>2.0</td>\n",
              "      <td>3</td>\n",
              "      <td>3</td>\n",
              "      <td>1</td>\n",
              "      <td>4</td>\n",
              "      <td>1</td>\n",
              "      <td>1</td>\n",
              "      <td>0</td>\n",
              "    </tr>\n",
              "    <tr>\n",
              "      <th>5</th>\n",
              "      <td>0</td>\n",
              "      <td>0.0</td>\n",
              "      <td>0</td>\n",
              "      <td>0.0</td>\n",
              "      <td>19</td>\n",
              "      <td>154.216667</td>\n",
              "      <td>0.015789</td>\n",
              "      <td>0.024561</td>\n",
              "      <td>0.0</td>\n",
              "      <td>0.0</td>\n",
              "      <td>2.0</td>\n",
              "      <td>2</td>\n",
              "      <td>2</td>\n",
              "      <td>1</td>\n",
              "      <td>3</td>\n",
              "      <td>1</td>\n",
              "      <td>0</td>\n",
              "      <td>0</td>\n",
              "    </tr>\n",
              "  </tbody>\n",
              "</table>\n",
              "</div>\n",
              "    <div class=\"colab-df-buttons\">\n",
              "\n",
              "  <div class=\"colab-df-container\">\n",
              "    <button class=\"colab-df-convert\" onclick=\"convertToInteractive('df-0af45df2-f580-41dc-b81e-1f222a13e94f')\"\n",
              "            title=\"Convert this dataframe to an interactive table.\"\n",
              "            style=\"display:none;\">\n",
              "\n",
              "  <svg xmlns=\"http://www.w3.org/2000/svg\" height=\"24px\" viewBox=\"0 -960 960 960\">\n",
              "    <path d=\"M120-120v-720h720v720H120Zm60-500h600v-160H180v160Zm220 220h160v-160H400v160Zm0 220h160v-160H400v160ZM180-400h160v-160H180v160Zm440 0h160v-160H620v160ZM180-180h160v-160H180v160Zm440 0h160v-160H620v160Z\"/>\n",
              "  </svg>\n",
              "    </button>\n",
              "\n",
              "  <style>\n",
              "    .colab-df-container {\n",
              "      display:flex;\n",
              "      gap: 12px;\n",
              "    }\n",
              "\n",
              "    .colab-df-convert {\n",
              "      background-color: #E8F0FE;\n",
              "      border: none;\n",
              "      border-radius: 50%;\n",
              "      cursor: pointer;\n",
              "      display: none;\n",
              "      fill: #1967D2;\n",
              "      height: 32px;\n",
              "      padding: 0 0 0 0;\n",
              "      width: 32px;\n",
              "    }\n",
              "\n",
              "    .colab-df-convert:hover {\n",
              "      background-color: #E2EBFA;\n",
              "      box-shadow: 0px 1px 2px rgba(60, 64, 67, 0.3), 0px 1px 3px 1px rgba(60, 64, 67, 0.15);\n",
              "      fill: #174EA6;\n",
              "    }\n",
              "\n",
              "    .colab-df-buttons div {\n",
              "      margin-bottom: 4px;\n",
              "    }\n",
              "\n",
              "    [theme=dark] .colab-df-convert {\n",
              "      background-color: #3B4455;\n",
              "      fill: #D2E3FC;\n",
              "    }\n",
              "\n",
              "    [theme=dark] .colab-df-convert:hover {\n",
              "      background-color: #434B5C;\n",
              "      box-shadow: 0px 1px 3px 1px rgba(0, 0, 0, 0.15);\n",
              "      filter: drop-shadow(0px 1px 2px rgba(0, 0, 0, 0.3));\n",
              "      fill: #FFFFFF;\n",
              "    }\n",
              "  </style>\n",
              "\n",
              "    <script>\n",
              "      const buttonEl =\n",
              "        document.querySelector('#df-0af45df2-f580-41dc-b81e-1f222a13e94f button.colab-df-convert');\n",
              "      buttonEl.style.display =\n",
              "        google.colab.kernel.accessAllowed ? 'block' : 'none';\n",
              "\n",
              "      async function convertToInteractive(key) {\n",
              "        const element = document.querySelector('#df-0af45df2-f580-41dc-b81e-1f222a13e94f');\n",
              "        const dataTable =\n",
              "          await google.colab.kernel.invokeFunction('convertToInteractive',\n",
              "                                                    [key], {});\n",
              "        if (!dataTable) return;\n",
              "\n",
              "        const docLinkHtml = 'Like what you see? Visit the ' +\n",
              "          '<a target=\"_blank\" href=https://colab.research.google.com/notebooks/data_table.ipynb>data table notebook</a>'\n",
              "          + ' to learn more about interactive tables.';\n",
              "        element.innerHTML = '';\n",
              "        dataTable['output_type'] = 'display_data';\n",
              "        await google.colab.output.renderOutput(dataTable, element);\n",
              "        const docLink = document.createElement('div');\n",
              "        docLink.innerHTML = docLinkHtml;\n",
              "        element.appendChild(docLink);\n",
              "      }\n",
              "    </script>\n",
              "  </div>\n",
              "\n",
              "\n",
              "<div id=\"df-1dda0b68-10f4-46c3-975c-621a43c3f35f\">\n",
              "  <button class=\"colab-df-quickchart\" onclick=\"quickchart('df-1dda0b68-10f4-46c3-975c-621a43c3f35f')\"\n",
              "            title=\"Suggest charts.\"\n",
              "            style=\"display:none;\">\n",
              "\n",
              "<svg xmlns=\"http://www.w3.org/2000/svg\" height=\"24px\"viewBox=\"0 0 24 24\"\n",
              "     width=\"24px\">\n",
              "    <g>\n",
              "        <path d=\"M19 3H5c-1.1 0-2 .9-2 2v14c0 1.1.9 2 2 2h14c1.1 0 2-.9 2-2V5c0-1.1-.9-2-2-2zM9 17H7v-7h2v7zm4 0h-2V7h2v10zm4 0h-2v-4h2v4z\"/>\n",
              "    </g>\n",
              "</svg>\n",
              "  </button>\n",
              "\n",
              "<style>\n",
              "  .colab-df-quickchart {\n",
              "      --bg-color: #E8F0FE;\n",
              "      --fill-color: #1967D2;\n",
              "      --hover-bg-color: #E2EBFA;\n",
              "      --hover-fill-color: #174EA6;\n",
              "      --disabled-fill-color: #AAA;\n",
              "      --disabled-bg-color: #DDD;\n",
              "  }\n",
              "\n",
              "  [theme=dark] .colab-df-quickchart {\n",
              "      --bg-color: #3B4455;\n",
              "      --fill-color: #D2E3FC;\n",
              "      --hover-bg-color: #434B5C;\n",
              "      --hover-fill-color: #FFFFFF;\n",
              "      --disabled-bg-color: #3B4455;\n",
              "      --disabled-fill-color: #666;\n",
              "  }\n",
              "\n",
              "  .colab-df-quickchart {\n",
              "    background-color: var(--bg-color);\n",
              "    border: none;\n",
              "    border-radius: 50%;\n",
              "    cursor: pointer;\n",
              "    display: none;\n",
              "    fill: var(--fill-color);\n",
              "    height: 32px;\n",
              "    padding: 0;\n",
              "    width: 32px;\n",
              "  }\n",
              "\n",
              "  .colab-df-quickchart:hover {\n",
              "    background-color: var(--hover-bg-color);\n",
              "    box-shadow: 0 1px 2px rgba(60, 64, 67, 0.3), 0 1px 3px 1px rgba(60, 64, 67, 0.15);\n",
              "    fill: var(--button-hover-fill-color);\n",
              "  }\n",
              "\n",
              "  .colab-df-quickchart-complete:disabled,\n",
              "  .colab-df-quickchart-complete:disabled:hover {\n",
              "    background-color: var(--disabled-bg-color);\n",
              "    fill: var(--disabled-fill-color);\n",
              "    box-shadow: none;\n",
              "  }\n",
              "\n",
              "  .colab-df-spinner {\n",
              "    border: 2px solid var(--fill-color);\n",
              "    border-color: transparent;\n",
              "    border-bottom-color: var(--fill-color);\n",
              "    animation:\n",
              "      spin 1s steps(1) infinite;\n",
              "  }\n",
              "\n",
              "  @keyframes spin {\n",
              "    0% {\n",
              "      border-color: transparent;\n",
              "      border-bottom-color: var(--fill-color);\n",
              "      border-left-color: var(--fill-color);\n",
              "    }\n",
              "    20% {\n",
              "      border-color: transparent;\n",
              "      border-left-color: var(--fill-color);\n",
              "      border-top-color: var(--fill-color);\n",
              "    }\n",
              "    30% {\n",
              "      border-color: transparent;\n",
              "      border-left-color: var(--fill-color);\n",
              "      border-top-color: var(--fill-color);\n",
              "      border-right-color: var(--fill-color);\n",
              "    }\n",
              "    40% {\n",
              "      border-color: transparent;\n",
              "      border-right-color: var(--fill-color);\n",
              "      border-top-color: var(--fill-color);\n",
              "    }\n",
              "    60% {\n",
              "      border-color: transparent;\n",
              "      border-right-color: var(--fill-color);\n",
              "    }\n",
              "    80% {\n",
              "      border-color: transparent;\n",
              "      border-right-color: var(--fill-color);\n",
              "      border-bottom-color: var(--fill-color);\n",
              "    }\n",
              "    90% {\n",
              "      border-color: transparent;\n",
              "      border-bottom-color: var(--fill-color);\n",
              "    }\n",
              "  }\n",
              "</style>\n",
              "\n",
              "  <script>\n",
              "    async function quickchart(key) {\n",
              "      const quickchartButtonEl =\n",
              "        document.querySelector('#' + key + ' button');\n",
              "      quickchartButtonEl.disabled = true;  // To prevent multiple clicks.\n",
              "      quickchartButtonEl.classList.add('colab-df-spinner');\n",
              "      try {\n",
              "        const charts = await google.colab.kernel.invokeFunction(\n",
              "            'suggestCharts', [key], {});\n",
              "      } catch (error) {\n",
              "        console.error('Error during call to suggestCharts:', error);\n",
              "      }\n",
              "      quickchartButtonEl.classList.remove('colab-df-spinner');\n",
              "      quickchartButtonEl.classList.add('colab-df-quickchart-complete');\n",
              "    }\n",
              "    (() => {\n",
              "      let quickchartButtonEl =\n",
              "        document.querySelector('#df-1dda0b68-10f4-46c3-975c-621a43c3f35f button');\n",
              "      quickchartButtonEl.style.display =\n",
              "        google.colab.kernel.accessAllowed ? 'block' : 'none';\n",
              "    })();\n",
              "  </script>\n",
              "</div>\n",
              "    </div>\n",
              "  </div>\n"
            ]
          },
          "metadata": {},
          "execution_count": 19
        }
      ],
      "source": [
        "#Reading in Data Set and displaying first 5 rows\n",
        "# OSI_g2 = pd.read_csv(\"../datasets/online_shoppers_intention.csv\")\n",
        "\n",
        "# for google colab\n",
        "path = '/content/drive/MyDrive/Colab Notebooks/hw3/online_shoppers_intention.csv'\n",
        "OSI_g2 = pd.read_csv(path)\n",
        "\n",
        "# conver to int\n",
        "OSI_g2[\"Weekend\"] = OSI_g2[\"Weekend\"].astype(int)\n",
        "OSI_g2[\"Revenue\"] = OSI_g2[\"Revenue\"].astype(int)\n",
        "\n",
        "# create numeric mapping for visitor type, drop original col\n",
        "OSI_g2.insert(loc=16, column=\"VisitorTypeNumeric\", value=pd.factorize(OSI_g2['VisitorType'])[0] + 1)\n",
        "OSI_g2 = OSI_g2.drop('VisitorType', axis=1)\n",
        "\n",
        "# rename cols\n",
        "new_col_names_g2 = {\n",
        "    'Administrative_Duration' : 'AdministrativeDuration',\n",
        "    'Informational_Duration' : 'InformationalDuration',\n",
        "    'ProductRelated_Duration' : 'ProductRelatedDuration'\n",
        "}\n",
        "OSI_g2.rename(columns=new_col_names_g2, inplace=True)\n",
        "\n",
        "# create numeric mapping for month\n",
        "month_numeric_encoding_g2 = {\n",
        "    \"Jan\": 1, \"Feb\": 2, \"Mar\": 3, \"Apr\": 4,\n",
        "    \"May\": 5, \"Jun\": 6, \"Jul\": 7, \"Aug\": 8,\n",
        "    \"Sep\": 9, \"Oct\": 10, \"Nov\": 11, \"Dec\": 12\n",
        "}\n",
        "OSI_g2[\"Month\"] = OSI_g2[\"Month\"].map(month_numeric_encoding_g2)\n",
        "\n",
        "# sanity check\n",
        "OSI_g2.head(6)"
      ]
    },
    {
      "cell_type": "markdown",
      "id": "3eb667b7",
      "metadata": {
        "id": "3eb667b7"
      },
      "source": [
        "# 6.2 Use describe to provide statistics on the pandas Dataframe (2 Points)."
      ]
    },
    {
      "cell_type": "code",
      "execution_count": 20,
      "id": "ed213860",
      "metadata": {
        "colab": {
          "base_uri": "https://localhost:8080/",
          "height": 320
        },
        "id": "ed213860",
        "outputId": "0c3dcfbb-24e1-4b4a-8a66-aecc3b3a34fb"
      },
      "outputs": [
        {
          "output_type": "execute_result",
          "data": {
            "text/plain": [
              "       Administrative  AdministrativeDuration  Informational  \\\n",
              "count    12330.000000            12330.000000   12330.000000   \n",
              "mean         2.315166               80.818611       0.503569   \n",
              "std          3.321784              176.779107       1.270156   \n",
              "min          0.000000                0.000000       0.000000   \n",
              "25%          0.000000                0.000000       0.000000   \n",
              "50%          1.000000                7.500000       0.000000   \n",
              "75%          4.000000               93.256250       0.000000   \n",
              "max         27.000000             3398.750000      24.000000   \n",
              "\n",
              "       InformationalDuration  ProductRelated  ProductRelatedDuration  \\\n",
              "count           12330.000000    12330.000000            12330.000000   \n",
              "mean               34.472398       31.731468             1194.746220   \n",
              "std               140.749294       44.475503             1913.669288   \n",
              "min                 0.000000        0.000000                0.000000   \n",
              "25%                 0.000000        7.000000              184.137500   \n",
              "50%                 0.000000       18.000000              598.936905   \n",
              "75%                 0.000000       38.000000             1464.157214   \n",
              "max              2549.375000      705.000000            63973.522230   \n",
              "\n",
              "        BounceRates     ExitRates    PageValues    SpecialDay         Month  \\\n",
              "count  12330.000000  12330.000000  12330.000000  12330.000000  12042.000000   \n",
              "mean       0.022191      0.043073      5.889258      0.061427      7.691496   \n",
              "std        0.048488      0.048597     18.568437      0.198917      3.423429   \n",
              "min        0.000000      0.000000      0.000000      0.000000      2.000000   \n",
              "25%        0.000000      0.014286      0.000000      0.000000      5.000000   \n",
              "50%        0.003112      0.025156      0.000000      0.000000      8.000000   \n",
              "75%        0.016813      0.050000      0.000000      0.000000     11.000000   \n",
              "max        0.200000      0.200000    361.763742      1.000000     12.000000   \n",
              "\n",
              "       OperatingSystems       Browser        Region   TrafficType  \\\n",
              "count      12330.000000  12330.000000  12330.000000  12330.000000   \n",
              "mean           2.124006      2.357097      3.147364      4.069586   \n",
              "std            0.911325      1.717277      2.401591      4.025169   \n",
              "min            1.000000      1.000000      1.000000      1.000000   \n",
              "25%            2.000000      2.000000      1.000000      2.000000   \n",
              "50%            2.000000      2.000000      3.000000      2.000000   \n",
              "75%            3.000000      2.000000      4.000000      4.000000   \n",
              "max            8.000000     13.000000      9.000000     20.000000   \n",
              "\n",
              "       VisitorTypeNumeric       Weekend       Revenue  \n",
              "count        12330.000000  12330.000000  12330.000000  \n",
              "mean             1.151176      0.232603      0.154745  \n",
              "std              0.376989      0.422509      0.361676  \n",
              "min              1.000000      0.000000      0.000000  \n",
              "25%              1.000000      0.000000      0.000000  \n",
              "50%              1.000000      0.000000      0.000000  \n",
              "75%              1.000000      0.000000      0.000000  \n",
              "max              3.000000      1.000000      1.000000  "
            ],
            "text/html": [
              "\n",
              "  <div id=\"df-7b79e3d6-bae0-4296-9950-dc03bcf2993a\" class=\"colab-df-container\">\n",
              "    <div>\n",
              "<style scoped>\n",
              "    .dataframe tbody tr th:only-of-type {\n",
              "        vertical-align: middle;\n",
              "    }\n",
              "\n",
              "    .dataframe tbody tr th {\n",
              "        vertical-align: top;\n",
              "    }\n",
              "\n",
              "    .dataframe thead th {\n",
              "        text-align: right;\n",
              "    }\n",
              "</style>\n",
              "<table border=\"1\" class=\"dataframe\">\n",
              "  <thead>\n",
              "    <tr style=\"text-align: right;\">\n",
              "      <th></th>\n",
              "      <th>Administrative</th>\n",
              "      <th>AdministrativeDuration</th>\n",
              "      <th>Informational</th>\n",
              "      <th>InformationalDuration</th>\n",
              "      <th>ProductRelated</th>\n",
              "      <th>ProductRelatedDuration</th>\n",
              "      <th>BounceRates</th>\n",
              "      <th>ExitRates</th>\n",
              "      <th>PageValues</th>\n",
              "      <th>SpecialDay</th>\n",
              "      <th>Month</th>\n",
              "      <th>OperatingSystems</th>\n",
              "      <th>Browser</th>\n",
              "      <th>Region</th>\n",
              "      <th>TrafficType</th>\n",
              "      <th>VisitorTypeNumeric</th>\n",
              "      <th>Weekend</th>\n",
              "      <th>Revenue</th>\n",
              "    </tr>\n",
              "  </thead>\n",
              "  <tbody>\n",
              "    <tr>\n",
              "      <th>count</th>\n",
              "      <td>12330.000000</td>\n",
              "      <td>12330.000000</td>\n",
              "      <td>12330.000000</td>\n",
              "      <td>12330.000000</td>\n",
              "      <td>12330.000000</td>\n",
              "      <td>12330.000000</td>\n",
              "      <td>12330.000000</td>\n",
              "      <td>12330.000000</td>\n",
              "      <td>12330.000000</td>\n",
              "      <td>12330.000000</td>\n",
              "      <td>12042.000000</td>\n",
              "      <td>12330.000000</td>\n",
              "      <td>12330.000000</td>\n",
              "      <td>12330.000000</td>\n",
              "      <td>12330.000000</td>\n",
              "      <td>12330.000000</td>\n",
              "      <td>12330.000000</td>\n",
              "      <td>12330.000000</td>\n",
              "    </tr>\n",
              "    <tr>\n",
              "      <th>mean</th>\n",
              "      <td>2.315166</td>\n",
              "      <td>80.818611</td>\n",
              "      <td>0.503569</td>\n",
              "      <td>34.472398</td>\n",
              "      <td>31.731468</td>\n",
              "      <td>1194.746220</td>\n",
              "      <td>0.022191</td>\n",
              "      <td>0.043073</td>\n",
              "      <td>5.889258</td>\n",
              "      <td>0.061427</td>\n",
              "      <td>7.691496</td>\n",
              "      <td>2.124006</td>\n",
              "      <td>2.357097</td>\n",
              "      <td>3.147364</td>\n",
              "      <td>4.069586</td>\n",
              "      <td>1.151176</td>\n",
              "      <td>0.232603</td>\n",
              "      <td>0.154745</td>\n",
              "    </tr>\n",
              "    <tr>\n",
              "      <th>std</th>\n",
              "      <td>3.321784</td>\n",
              "      <td>176.779107</td>\n",
              "      <td>1.270156</td>\n",
              "      <td>140.749294</td>\n",
              "      <td>44.475503</td>\n",
              "      <td>1913.669288</td>\n",
              "      <td>0.048488</td>\n",
              "      <td>0.048597</td>\n",
              "      <td>18.568437</td>\n",
              "      <td>0.198917</td>\n",
              "      <td>3.423429</td>\n",
              "      <td>0.911325</td>\n",
              "      <td>1.717277</td>\n",
              "      <td>2.401591</td>\n",
              "      <td>4.025169</td>\n",
              "      <td>0.376989</td>\n",
              "      <td>0.422509</td>\n",
              "      <td>0.361676</td>\n",
              "    </tr>\n",
              "    <tr>\n",
              "      <th>min</th>\n",
              "      <td>0.000000</td>\n",
              "      <td>0.000000</td>\n",
              "      <td>0.000000</td>\n",
              "      <td>0.000000</td>\n",
              "      <td>0.000000</td>\n",
              "      <td>0.000000</td>\n",
              "      <td>0.000000</td>\n",
              "      <td>0.000000</td>\n",
              "      <td>0.000000</td>\n",
              "      <td>0.000000</td>\n",
              "      <td>2.000000</td>\n",
              "      <td>1.000000</td>\n",
              "      <td>1.000000</td>\n",
              "      <td>1.000000</td>\n",
              "      <td>1.000000</td>\n",
              "      <td>1.000000</td>\n",
              "      <td>0.000000</td>\n",
              "      <td>0.000000</td>\n",
              "    </tr>\n",
              "    <tr>\n",
              "      <th>25%</th>\n",
              "      <td>0.000000</td>\n",
              "      <td>0.000000</td>\n",
              "      <td>0.000000</td>\n",
              "      <td>0.000000</td>\n",
              "      <td>7.000000</td>\n",
              "      <td>184.137500</td>\n",
              "      <td>0.000000</td>\n",
              "      <td>0.014286</td>\n",
              "      <td>0.000000</td>\n",
              "      <td>0.000000</td>\n",
              "      <td>5.000000</td>\n",
              "      <td>2.000000</td>\n",
              "      <td>2.000000</td>\n",
              "      <td>1.000000</td>\n",
              "      <td>2.000000</td>\n",
              "      <td>1.000000</td>\n",
              "      <td>0.000000</td>\n",
              "      <td>0.000000</td>\n",
              "    </tr>\n",
              "    <tr>\n",
              "      <th>50%</th>\n",
              "      <td>1.000000</td>\n",
              "      <td>7.500000</td>\n",
              "      <td>0.000000</td>\n",
              "      <td>0.000000</td>\n",
              "      <td>18.000000</td>\n",
              "      <td>598.936905</td>\n",
              "      <td>0.003112</td>\n",
              "      <td>0.025156</td>\n",
              "      <td>0.000000</td>\n",
              "      <td>0.000000</td>\n",
              "      <td>8.000000</td>\n",
              "      <td>2.000000</td>\n",
              "      <td>2.000000</td>\n",
              "      <td>3.000000</td>\n",
              "      <td>2.000000</td>\n",
              "      <td>1.000000</td>\n",
              "      <td>0.000000</td>\n",
              "      <td>0.000000</td>\n",
              "    </tr>\n",
              "    <tr>\n",
              "      <th>75%</th>\n",
              "      <td>4.000000</td>\n",
              "      <td>93.256250</td>\n",
              "      <td>0.000000</td>\n",
              "      <td>0.000000</td>\n",
              "      <td>38.000000</td>\n",
              "      <td>1464.157214</td>\n",
              "      <td>0.016813</td>\n",
              "      <td>0.050000</td>\n",
              "      <td>0.000000</td>\n",
              "      <td>0.000000</td>\n",
              "      <td>11.000000</td>\n",
              "      <td>3.000000</td>\n",
              "      <td>2.000000</td>\n",
              "      <td>4.000000</td>\n",
              "      <td>4.000000</td>\n",
              "      <td>1.000000</td>\n",
              "      <td>0.000000</td>\n",
              "      <td>0.000000</td>\n",
              "    </tr>\n",
              "    <tr>\n",
              "      <th>max</th>\n",
              "      <td>27.000000</td>\n",
              "      <td>3398.750000</td>\n",
              "      <td>24.000000</td>\n",
              "      <td>2549.375000</td>\n",
              "      <td>705.000000</td>\n",
              "      <td>63973.522230</td>\n",
              "      <td>0.200000</td>\n",
              "      <td>0.200000</td>\n",
              "      <td>361.763742</td>\n",
              "      <td>1.000000</td>\n",
              "      <td>12.000000</td>\n",
              "      <td>8.000000</td>\n",
              "      <td>13.000000</td>\n",
              "      <td>9.000000</td>\n",
              "      <td>20.000000</td>\n",
              "      <td>3.000000</td>\n",
              "      <td>1.000000</td>\n",
              "      <td>1.000000</td>\n",
              "    </tr>\n",
              "  </tbody>\n",
              "</table>\n",
              "</div>\n",
              "    <div class=\"colab-df-buttons\">\n",
              "\n",
              "  <div class=\"colab-df-container\">\n",
              "    <button class=\"colab-df-convert\" onclick=\"convertToInteractive('df-7b79e3d6-bae0-4296-9950-dc03bcf2993a')\"\n",
              "            title=\"Convert this dataframe to an interactive table.\"\n",
              "            style=\"display:none;\">\n",
              "\n",
              "  <svg xmlns=\"http://www.w3.org/2000/svg\" height=\"24px\" viewBox=\"0 -960 960 960\">\n",
              "    <path d=\"M120-120v-720h720v720H120Zm60-500h600v-160H180v160Zm220 220h160v-160H400v160Zm0 220h160v-160H400v160ZM180-400h160v-160H180v160Zm440 0h160v-160H620v160ZM180-180h160v-160H180v160Zm440 0h160v-160H620v160Z\"/>\n",
              "  </svg>\n",
              "    </button>\n",
              "\n",
              "  <style>\n",
              "    .colab-df-container {\n",
              "      display:flex;\n",
              "      gap: 12px;\n",
              "    }\n",
              "\n",
              "    .colab-df-convert {\n",
              "      background-color: #E8F0FE;\n",
              "      border: none;\n",
              "      border-radius: 50%;\n",
              "      cursor: pointer;\n",
              "      display: none;\n",
              "      fill: #1967D2;\n",
              "      height: 32px;\n",
              "      padding: 0 0 0 0;\n",
              "      width: 32px;\n",
              "    }\n",
              "\n",
              "    .colab-df-convert:hover {\n",
              "      background-color: #E2EBFA;\n",
              "      box-shadow: 0px 1px 2px rgba(60, 64, 67, 0.3), 0px 1px 3px 1px rgba(60, 64, 67, 0.15);\n",
              "      fill: #174EA6;\n",
              "    }\n",
              "\n",
              "    .colab-df-buttons div {\n",
              "      margin-bottom: 4px;\n",
              "    }\n",
              "\n",
              "    [theme=dark] .colab-df-convert {\n",
              "      background-color: #3B4455;\n",
              "      fill: #D2E3FC;\n",
              "    }\n",
              "\n",
              "    [theme=dark] .colab-df-convert:hover {\n",
              "      background-color: #434B5C;\n",
              "      box-shadow: 0px 1px 3px 1px rgba(0, 0, 0, 0.15);\n",
              "      filter: drop-shadow(0px 1px 2px rgba(0, 0, 0, 0.3));\n",
              "      fill: #FFFFFF;\n",
              "    }\n",
              "  </style>\n",
              "\n",
              "    <script>\n",
              "      const buttonEl =\n",
              "        document.querySelector('#df-7b79e3d6-bae0-4296-9950-dc03bcf2993a button.colab-df-convert');\n",
              "      buttonEl.style.display =\n",
              "        google.colab.kernel.accessAllowed ? 'block' : 'none';\n",
              "\n",
              "      async function convertToInteractive(key) {\n",
              "        const element = document.querySelector('#df-7b79e3d6-bae0-4296-9950-dc03bcf2993a');\n",
              "        const dataTable =\n",
              "          await google.colab.kernel.invokeFunction('convertToInteractive',\n",
              "                                                    [key], {});\n",
              "        if (!dataTable) return;\n",
              "\n",
              "        const docLinkHtml = 'Like what you see? Visit the ' +\n",
              "          '<a target=\"_blank\" href=https://colab.research.google.com/notebooks/data_table.ipynb>data table notebook</a>'\n",
              "          + ' to learn more about interactive tables.';\n",
              "        element.innerHTML = '';\n",
              "        dataTable['output_type'] = 'display_data';\n",
              "        await google.colab.output.renderOutput(dataTable, element);\n",
              "        const docLink = document.createElement('div');\n",
              "        docLink.innerHTML = docLinkHtml;\n",
              "        element.appendChild(docLink);\n",
              "      }\n",
              "    </script>\n",
              "  </div>\n",
              "\n",
              "\n",
              "<div id=\"df-fb14ef08-62c1-43dd-95aa-84146b2f2925\">\n",
              "  <button class=\"colab-df-quickchart\" onclick=\"quickchart('df-fb14ef08-62c1-43dd-95aa-84146b2f2925')\"\n",
              "            title=\"Suggest charts.\"\n",
              "            style=\"display:none;\">\n",
              "\n",
              "<svg xmlns=\"http://www.w3.org/2000/svg\" height=\"24px\"viewBox=\"0 0 24 24\"\n",
              "     width=\"24px\">\n",
              "    <g>\n",
              "        <path d=\"M19 3H5c-1.1 0-2 .9-2 2v14c0 1.1.9 2 2 2h14c1.1 0 2-.9 2-2V5c0-1.1-.9-2-2-2zM9 17H7v-7h2v7zm4 0h-2V7h2v10zm4 0h-2v-4h2v4z\"/>\n",
              "    </g>\n",
              "</svg>\n",
              "  </button>\n",
              "\n",
              "<style>\n",
              "  .colab-df-quickchart {\n",
              "      --bg-color: #E8F0FE;\n",
              "      --fill-color: #1967D2;\n",
              "      --hover-bg-color: #E2EBFA;\n",
              "      --hover-fill-color: #174EA6;\n",
              "      --disabled-fill-color: #AAA;\n",
              "      --disabled-bg-color: #DDD;\n",
              "  }\n",
              "\n",
              "  [theme=dark] .colab-df-quickchart {\n",
              "      --bg-color: #3B4455;\n",
              "      --fill-color: #D2E3FC;\n",
              "      --hover-bg-color: #434B5C;\n",
              "      --hover-fill-color: #FFFFFF;\n",
              "      --disabled-bg-color: #3B4455;\n",
              "      --disabled-fill-color: #666;\n",
              "  }\n",
              "\n",
              "  .colab-df-quickchart {\n",
              "    background-color: var(--bg-color);\n",
              "    border: none;\n",
              "    border-radius: 50%;\n",
              "    cursor: pointer;\n",
              "    display: none;\n",
              "    fill: var(--fill-color);\n",
              "    height: 32px;\n",
              "    padding: 0;\n",
              "    width: 32px;\n",
              "  }\n",
              "\n",
              "  .colab-df-quickchart:hover {\n",
              "    background-color: var(--hover-bg-color);\n",
              "    box-shadow: 0 1px 2px rgba(60, 64, 67, 0.3), 0 1px 3px 1px rgba(60, 64, 67, 0.15);\n",
              "    fill: var(--button-hover-fill-color);\n",
              "  }\n",
              "\n",
              "  .colab-df-quickchart-complete:disabled,\n",
              "  .colab-df-quickchart-complete:disabled:hover {\n",
              "    background-color: var(--disabled-bg-color);\n",
              "    fill: var(--disabled-fill-color);\n",
              "    box-shadow: none;\n",
              "  }\n",
              "\n",
              "  .colab-df-spinner {\n",
              "    border: 2px solid var(--fill-color);\n",
              "    border-color: transparent;\n",
              "    border-bottom-color: var(--fill-color);\n",
              "    animation:\n",
              "      spin 1s steps(1) infinite;\n",
              "  }\n",
              "\n",
              "  @keyframes spin {\n",
              "    0% {\n",
              "      border-color: transparent;\n",
              "      border-bottom-color: var(--fill-color);\n",
              "      border-left-color: var(--fill-color);\n",
              "    }\n",
              "    20% {\n",
              "      border-color: transparent;\n",
              "      border-left-color: var(--fill-color);\n",
              "      border-top-color: var(--fill-color);\n",
              "    }\n",
              "    30% {\n",
              "      border-color: transparent;\n",
              "      border-left-color: var(--fill-color);\n",
              "      border-top-color: var(--fill-color);\n",
              "      border-right-color: var(--fill-color);\n",
              "    }\n",
              "    40% {\n",
              "      border-color: transparent;\n",
              "      border-right-color: var(--fill-color);\n",
              "      border-top-color: var(--fill-color);\n",
              "    }\n",
              "    60% {\n",
              "      border-color: transparent;\n",
              "      border-right-color: var(--fill-color);\n",
              "    }\n",
              "    80% {\n",
              "      border-color: transparent;\n",
              "      border-right-color: var(--fill-color);\n",
              "      border-bottom-color: var(--fill-color);\n",
              "    }\n",
              "    90% {\n",
              "      border-color: transparent;\n",
              "      border-bottom-color: var(--fill-color);\n",
              "    }\n",
              "  }\n",
              "</style>\n",
              "\n",
              "  <script>\n",
              "    async function quickchart(key) {\n",
              "      const quickchartButtonEl =\n",
              "        document.querySelector('#' + key + ' button');\n",
              "      quickchartButtonEl.disabled = true;  // To prevent multiple clicks.\n",
              "      quickchartButtonEl.classList.add('colab-df-spinner');\n",
              "      try {\n",
              "        const charts = await google.colab.kernel.invokeFunction(\n",
              "            'suggestCharts', [key], {});\n",
              "      } catch (error) {\n",
              "        console.error('Error during call to suggestCharts:', error);\n",
              "      }\n",
              "      quickchartButtonEl.classList.remove('colab-df-spinner');\n",
              "      quickchartButtonEl.classList.add('colab-df-quickchart-complete');\n",
              "    }\n",
              "    (() => {\n",
              "      let quickchartButtonEl =\n",
              "        document.querySelector('#df-fb14ef08-62c1-43dd-95aa-84146b2f2925 button');\n",
              "      quickchartButtonEl.style.display =\n",
              "        google.colab.kernel.accessAllowed ? 'block' : 'none';\n",
              "    })();\n",
              "  </script>\n",
              "</div>\n",
              "    </div>\n",
              "  </div>\n"
            ]
          },
          "metadata": {},
          "execution_count": 20
        }
      ],
      "source": [
        "OSI_g2.describe()"
      ]
    },
    {
      "cell_type": "markdown",
      "id": "e831af51",
      "metadata": {
        "id": "e831af51"
      },
      "source": [
        "# 6.3 Split the dataset into a Training set and a Test set. Justify your preferred split (3 Points)."
      ]
    },
    {
      "cell_type": "code",
      "source": [
        "# check for missing values\n",
        "print(OSI_g2.isna().sum())"
      ],
      "metadata": {
        "colab": {
          "base_uri": "https://localhost:8080/"
        },
        "id": "ZqAzpND9_Ofm",
        "outputId": "44d2287e-98dd-4fa8-8c5a-d68362a23477"
      },
      "id": "ZqAzpND9_Ofm",
      "execution_count": 21,
      "outputs": [
        {
          "output_type": "stream",
          "name": "stdout",
          "text": [
            "Administrative              0\n",
            "AdministrativeDuration      0\n",
            "Informational               0\n",
            "InformationalDuration       0\n",
            "ProductRelated              0\n",
            "ProductRelatedDuration      0\n",
            "BounceRates                 0\n",
            "ExitRates                   0\n",
            "PageValues                  0\n",
            "SpecialDay                  0\n",
            "Month                     288\n",
            "OperatingSystems            0\n",
            "Browser                     0\n",
            "Region                      0\n",
            "TrafficType                 0\n",
            "VisitorTypeNumeric          0\n",
            "Weekend                     0\n",
            "Revenue                     0\n",
            "dtype: int64\n"
          ]
        }
      ]
    },
    {
      "cell_type": "code",
      "execution_count": 22,
      "id": "f4b39f5e",
      "metadata": {
        "colab": {
          "base_uri": "https://localhost:8080/"
        },
        "id": "f4b39f5e",
        "outputId": "f56ee9dd-5693-4388-f77e-ae41ee1a388b"
      },
      "outputs": [
        {
          "output_type": "stream",
          "name": "stdout",
          "text": [
            "0.0    10422\n",
            "1.0     1908\n",
            "Name: Revenue, dtype: int64\n"
          ]
        }
      ],
      "source": [
        "# impute missing values before proceeding with train/test\n",
        "imputer = SimpleImputer(strategy='most_frequent')\n",
        "OSI_imputed_g2 = pd.DataFrame(imputer.fit_transform(OSI_g2), columns=OSI_g2.columns)\n",
        "\n",
        "# sanity check\n",
        "print(OSI_imputed_g2['Revenue'].value_counts())"
      ]
    },
    {
      "cell_type": "code",
      "execution_count": 23,
      "id": "cf9d2c2e",
      "metadata": {
        "id": "cf9d2c2e"
      },
      "outputs": [],
      "source": [
        "# set up train-test split\n",
        "X_g2 = OSI_imputed_g2.loc[:, OSI_imputed_g2.columns != 'Revenue'].to_numpy()\n",
        "y_g2 = OSI_imputed_g2.iloc[:,-1:].to_numpy()\n",
        "\n",
        "X_train_g2, X_test_g2, y_train_g2, y_test_g2 = train_test_split(X_g2, y_g2, test_size=0.30, random_state=1859)"
      ]
    },
    {
      "cell_type": "markdown",
      "id": "466a1464",
      "metadata": {
        "id": "466a1464"
      },
      "source": [
        "While the dataset is pretty large (over 12,000 rows), the dataset is also very imbalanced. As such, instead of going with the typical 80-20 train-test split, we'll go with a 70-30 split to ensure that there's enough data to evaluate the performance of the model on the minority class."
      ]
    },
    {
      "cell_type": "markdown",
      "id": "a9ff630f",
      "metadata": {
        "id": "a9ff630f"
      },
      "source": [
        "# 7. Classification Routine (12 Points):\n",
        "Execute a classification routine using RandomForestClassifier(), BaggingClassifier(), and XGboostclassifier(). Independently output the accuracy box plot as discussed in class. Use any package you are comfortable with (seaborn, matplotlib)."
      ]
    },
    {
      "cell_type": "markdown",
      "source": [
        "**NOTE:** As we saw in the class distributions, there is about a 5:1 ratio for the target variable. Since the dataset is moderately imbalanced, I believe it'll be better to use a measure that is less sensitive to class imbalance than accuracy. As such, I will use ROC-AUC score."
      ],
      "metadata": {
        "id": "83pp69bcCq7s"
      },
      "id": "83pp69bcCq7s"
    },
    {
      "cell_type": "code",
      "execution_count": 24,
      "id": "6b91b5ad",
      "metadata": {
        "id": "6b91b5ad"
      },
      "outputs": [],
      "source": [
        "# create list variable to store results\n",
        "results_g2 = list()"
      ]
    },
    {
      "cell_type": "markdown",
      "id": "5af93365",
      "metadata": {
        "id": "5af93365"
      },
      "source": [
        "## 7.1 RandomForestClassifier():"
      ]
    },
    {
      "cell_type": "code",
      "execution_count": 25,
      "id": "3ae71f65",
      "metadata": {
        "colab": {
          "base_uri": "https://localhost:8080/"
        },
        "id": "3ae71f65",
        "outputId": "d6e7b602-0437-49d8-a7ed-342003e87952"
      },
      "outputs": [
        {
          "output_type": "stream",
          "name": "stdout",
          "text": [
            "0.9227947095980668 0.010400049284286322\n"
          ]
        }
      ],
      "source": [
        "# random forests w/ 100 trees\n",
        "clf_g2 = RandomForestClassifier(n_estimators=100, random_state=1859)\n",
        "\n",
        "# use Cross Validation to run our model and generate the eval metrics\n",
        "cv_g2 = RepeatedKFold(n_splits=5, n_repeats=3, random_state=1859)\n",
        "scores_g2 = cross_val_score(clf_g2, X_train_g2, y_train_g2, scoring='roc_auc', cv=cv_g2, n_jobs=-1) # using roc_auc since imbalanced dataset; more insightful than accuracy\n",
        "\n",
        "# append scores to list, print mean and std\n",
        "results_g2.append(scores_g2)\n",
        "print(scores_g2.mean(), scores_g2.std())"
      ]
    },
    {
      "cell_type": "markdown",
      "id": "3a49e531",
      "metadata": {
        "id": "3a49e531"
      },
      "source": [
        "## 7.2. BaggingClassifier():"
      ]
    },
    {
      "cell_type": "code",
      "execution_count": 26,
      "id": "ec813e5a",
      "metadata": {
        "colab": {
          "base_uri": "https://localhost:8080/"
        },
        "id": "ec813e5a",
        "outputId": "606e2b79-26f9-4d7e-fe60-d9b2e313ef83"
      },
      "outputs": [
        {
          "output_type": "stream",
          "name": "stdout",
          "text": [
            "0.9225090980898315 0.00952896430748062\n"
          ]
        }
      ],
      "source": [
        "# Bagging Classifier w/ 100 trees\n",
        "clf_g2 = BaggingClassifier(n_estimators=100, random_state=1859)\n",
        "\n",
        "# use Cross Validation to run our model and generate the eval metrics\n",
        "cv_g2 = RepeatedKFold(n_splits=5, n_repeats=3, random_state=1859)\n",
        "scores_g2 = cross_val_score(clf_g2, X_train_g2, y_train_g2, scoring='roc_auc', cv=cv_g2, n_jobs=-1) # using roc_auc since imbalanced dataset; more insightful than accuracy\n",
        "\n",
        "# append scores to list, print mean and std\n",
        "results_g2.append(scores_g2)\n",
        "print(scores_g2.mean(), scores_g2.std())"
      ]
    },
    {
      "cell_type": "markdown",
      "id": "b72e6851",
      "metadata": {
        "id": "b72e6851"
      },
      "source": [
        "## 7.3. XGboostclassifier():"
      ]
    },
    {
      "cell_type": "code",
      "execution_count": 27,
      "id": "23d3a53b",
      "metadata": {
        "colab": {
          "base_uri": "https://localhost:8080/"
        },
        "id": "23d3a53b",
        "outputId": "0ad5d44d-6248-422d-caa3-cba1fdd27e9b"
      },
      "outputs": [
        {
          "output_type": "stream",
          "name": "stdout",
          "text": [
            "0.9178714509108237 0.00939297343654051\n"
          ]
        }
      ],
      "source": [
        "# XGBoost w/ 100 trees\n",
        "clf_g2 = XGBClassifier(n_estimators=100, random_state=1859)\n",
        "\n",
        "# use Cross Validation to run our model and generate the eval metrics\n",
        "cv_g2 = RepeatedKFold(n_splits=5, n_repeats=3, random_state=1859)\n",
        "scores_g2 = cross_val_score(clf_g2, X_train_g2, y_train_g2, scoring='roc_auc', cv=cv_g2, n_jobs=-1) # using roc_auc since imbalanced dataset; more insightful than accuracy\n",
        "\n",
        "# append scores to list, print mean and std\n",
        "results_g2.append(scores_g2)\n",
        "print(scores_g2.mean(), scores_g2.std())"
      ]
    },
    {
      "cell_type": "markdown",
      "id": "75ad45c0",
      "metadata": {
        "id": "75ad45c0"
      },
      "source": [
        "## ROC-AUC Score Boxplot:"
      ]
    },
    {
      "cell_type": "code",
      "source": [
        "# define stacked classifier\n",
        "def base_models():\n",
        "  models_g2 = dict()\n",
        "  models_g2[\"RF\"] = RandomForestClassifier()\n",
        "  models_g2[\"Bag\"] = BaggingClassifier()\n",
        "  models_g2[\"XGB\"] = XGBClassifier()\n",
        "  return models_g2\n",
        "\n",
        "# evaluate the list of models\n",
        "def eval_models(model):\n",
        "  cv_g2 = RepeatedKFold(n_splits=5, n_repeats=3, random_state=1859) # 5x3 cv\n",
        "  scores_g2 = cross_val_score(model, X_train_g2, y_train_g2, scoring='roc_auc', cv=cv_g2, n_jobs=-1) # using roc_auc since imbalanced dataset; more insightful than accuracy\n",
        "  return scores_g2\n",
        "\n",
        "models_g2 = base_models()\n",
        "\n",
        "# evaluate the models and store results\n",
        "results_g2, names_g2 = list(), list()\n",
        "\n",
        "for name, model in models_g2.items():\n",
        "  scores = eval_models(model)\n",
        "  results_g2.append(scores)\n",
        "  names_g2.append(name)\n",
        "  print('>%s %.3f (%.3f)' % (name, scores.mean(), scores.std()))"
      ],
      "metadata": {
        "colab": {
          "base_uri": "https://localhost:8080/"
        },
        "id": "AlWmJIodDrc3",
        "outputId": "5cedc1b1-9e13-42da-9a24-78e4b9b2bef9"
      },
      "id": "AlWmJIodDrc3",
      "execution_count": 28,
      "outputs": [
        {
          "output_type": "stream",
          "name": "stdout",
          "text": [
            ">RF 0.922 (0.011)\n",
            ">Bag 0.896 (0.012)\n",
            ">XGB 0.918 (0.009)\n"
          ]
        }
      ]
    },
    {
      "cell_type": "code",
      "execution_count": 29,
      "id": "4ec2c46c",
      "metadata": {
        "colab": {
          "base_uri": "https://localhost:8080/",
          "height": 542
        },
        "id": "4ec2c46c",
        "outputId": "446dc1e2-e31d-4b17-9ed2-a2a9157c63d9"
      },
      "outputs": [
        {
          "output_type": "display_data",
          "data": {
            "text/html": [
              "<html>\n",
              "<head><meta charset=\"utf-8\" /></head>\n",
              "<body>\n",
              "    <div>            <script src=\"https://cdnjs.cloudflare.com/ajax/libs/mathjax/2.7.5/MathJax.js?config=TeX-AMS-MML_SVG\"></script><script type=\"text/javascript\">if (window.MathJax && window.MathJax.Hub && window.MathJax.Hub.Config) {window.MathJax.Hub.Config({SVG: {font: \"STIX-Web\"}});}</script>                <script type=\"text/javascript\">window.PlotlyConfig = {MathJaxConfig: 'local'};</script>\n",
              "        <script charset=\"utf-8\" src=\"https://cdn.plot.ly/plotly-2.24.1.min.js\"></script>                <div id=\"303ff828-f5a3-4d7d-b38c-96b7192e8904\" class=\"plotly-graph-div\" style=\"height:525px; width:100%;\"></div>            <script type=\"text/javascript\">                                    window.PLOTLYENV=window.PLOTLYENV || {};                                    if (document.getElementById(\"303ff828-f5a3-4d7d-b38c-96b7192e8904\")) {                    Plotly.newPlot(                        \"303ff828-f5a3-4d7d-b38c-96b7192e8904\",                        [{\"alignmentgroup\":\"True\",\"boxpoints\":\"all\",\"hovertemplate\":\"Machine Learning Model=%{x}\\u003cbr\\u003eROC-AUC Score=%{y}\\u003cextra\\u003e\\u003c\\u002fextra\\u003e\",\"legendgroup\":\"RF\",\"marker\":{\"color\":\"#636efa\"},\"name\":\"RF\",\"notched\":false,\"offsetgroup\":\"RF\",\"orientation\":\"v\",\"showlegend\":true,\"x\":[\"RF\",\"RF\",\"RF\",\"RF\",\"RF\",\"RF\",\"RF\",\"RF\",\"RF\",\"RF\",\"RF\",\"RF\",\"RF\",\"RF\",\"RF\"],\"x0\":\" \",\"xaxis\":\"x\",\"y\":[0.921695923587202,0.9172615176151762,0.9203832843763782,0.9279030991194588,0.925831234772639,0.9366559477205411,0.9016227053442767,0.9316363824209317,0.922754961943989,0.9158707738295654,0.9244949345975834,0.9205105516186038,0.9283513402192509,0.8970954909686137,0.9411297580602467],\"y0\":\" \",\"yaxis\":\"y\",\"type\":\"box\"},{\"alignmentgroup\":\"True\",\"boxpoints\":\"all\",\"hovertemplate\":\"Machine Learning Model=%{x}\\u003cbr\\u003eROC-AUC Score=%{y}\\u003cextra\\u003e\\u003c\\u002fextra\\u003e\",\"legendgroup\":\"Bagging\",\"marker\":{\"color\":\"#EF553B\"},\"name\":\"Bagging\",\"notched\":false,\"offsetgroup\":\"Bagging\",\"orientation\":\"v\",\"showlegend\":true,\"x\":[\"Bagging\",\"Bagging\",\"Bagging\",\"Bagging\",\"Bagging\",\"Bagging\",\"Bagging\",\"Bagging\",\"Bagging\",\"Bagging\",\"Bagging\",\"Bagging\",\"Bagging\",\"Bagging\",\"Bagging\"],\"x0\":\" \",\"xaxis\":\"x\",\"y\":[0.8891916649941074,0.8894322493224932,0.8936550291125711,0.9012291749920766,0.9039089531765043,0.9104087698585307,0.8888728776392456,0.916403858819883,0.8850241932258969,0.8854502850979845,0.8964582405972294,0.8972392599371264,0.8981158777432777,0.8670756145774703,0.9115660664180967],\"y0\":\" \",\"yaxis\":\"y\",\"type\":\"box\"},{\"alignmentgroup\":\"True\",\"boxpoints\":\"all\",\"hovertemplate\":\"Machine Learning Model=%{x}\\u003cbr\\u003eROC-AUC Score=%{y}\\u003cextra\\u003e\\u003c\\u002fextra\\u003e\",\"legendgroup\":\"XGB\",\"marker\":{\"color\":\"#00cc96\"},\"name\":\"XGB\",\"notched\":false,\"offsetgroup\":\"XGB\",\"orientation\":\"v\",\"showlegend\":true,\"x\":[\"XGB\",\"XGB\",\"XGB\",\"XGB\",\"XGB\",\"XGB\",\"XGB\",\"XGB\",\"XGB\",\"XGB\",\"XGB\",\"XGB\",\"XGB\",\"XGB\",\"XGB\"],\"x0\":\" \",\"xaxis\":\"x\",\"y\":[0.9151755157915322,0.9192222222222222,0.9138407416542716,0.9197177858314156,0.9195227565874332,0.9318518403446633,0.8977156819748136,0.92587656425555,0.9232348275816105,0.9112049119522163,0.9235336075640482,0.9181786325626656,0.9185835287159663,0.899299296033151,0.9311138505907949],\"y0\":\" \",\"yaxis\":\"y\",\"type\":\"box\"}],                        {\"template\":{\"data\":{\"histogram2dcontour\":[{\"type\":\"histogram2dcontour\",\"colorbar\":{\"outlinewidth\":0,\"ticks\":\"\"},\"colorscale\":[[0.0,\"#0d0887\"],[0.1111111111111111,\"#46039f\"],[0.2222222222222222,\"#7201a8\"],[0.3333333333333333,\"#9c179e\"],[0.4444444444444444,\"#bd3786\"],[0.5555555555555556,\"#d8576b\"],[0.6666666666666666,\"#ed7953\"],[0.7777777777777778,\"#fb9f3a\"],[0.8888888888888888,\"#fdca26\"],[1.0,\"#f0f921\"]]}],\"choropleth\":[{\"type\":\"choropleth\",\"colorbar\":{\"outlinewidth\":0,\"ticks\":\"\"}}],\"histogram2d\":[{\"type\":\"histogram2d\",\"colorbar\":{\"outlinewidth\":0,\"ticks\":\"\"},\"colorscale\":[[0.0,\"#0d0887\"],[0.1111111111111111,\"#46039f\"],[0.2222222222222222,\"#7201a8\"],[0.3333333333333333,\"#9c179e\"],[0.4444444444444444,\"#bd3786\"],[0.5555555555555556,\"#d8576b\"],[0.6666666666666666,\"#ed7953\"],[0.7777777777777778,\"#fb9f3a\"],[0.8888888888888888,\"#fdca26\"],[1.0,\"#f0f921\"]]}],\"heatmap\":[{\"type\":\"heatmap\",\"colorbar\":{\"outlinewidth\":0,\"ticks\":\"\"},\"colorscale\":[[0.0,\"#0d0887\"],[0.1111111111111111,\"#46039f\"],[0.2222222222222222,\"#7201a8\"],[0.3333333333333333,\"#9c179e\"],[0.4444444444444444,\"#bd3786\"],[0.5555555555555556,\"#d8576b\"],[0.6666666666666666,\"#ed7953\"],[0.7777777777777778,\"#fb9f3a\"],[0.8888888888888888,\"#fdca26\"],[1.0,\"#f0f921\"]]}],\"heatmapgl\":[{\"type\":\"heatmapgl\",\"colorbar\":{\"outlinewidth\":0,\"ticks\":\"\"},\"colorscale\":[[0.0,\"#0d0887\"],[0.1111111111111111,\"#46039f\"],[0.2222222222222222,\"#7201a8\"],[0.3333333333333333,\"#9c179e\"],[0.4444444444444444,\"#bd3786\"],[0.5555555555555556,\"#d8576b\"],[0.6666666666666666,\"#ed7953\"],[0.7777777777777778,\"#fb9f3a\"],[0.8888888888888888,\"#fdca26\"],[1.0,\"#f0f921\"]]}],\"contourcarpet\":[{\"type\":\"contourcarpet\",\"colorbar\":{\"outlinewidth\":0,\"ticks\":\"\"}}],\"contour\":[{\"type\":\"contour\",\"colorbar\":{\"outlinewidth\":0,\"ticks\":\"\"},\"colorscale\":[[0.0,\"#0d0887\"],[0.1111111111111111,\"#46039f\"],[0.2222222222222222,\"#7201a8\"],[0.3333333333333333,\"#9c179e\"],[0.4444444444444444,\"#bd3786\"],[0.5555555555555556,\"#d8576b\"],[0.6666666666666666,\"#ed7953\"],[0.7777777777777778,\"#fb9f3a\"],[0.8888888888888888,\"#fdca26\"],[1.0,\"#f0f921\"]]}],\"surface\":[{\"type\":\"surface\",\"colorbar\":{\"outlinewidth\":0,\"ticks\":\"\"},\"colorscale\":[[0.0,\"#0d0887\"],[0.1111111111111111,\"#46039f\"],[0.2222222222222222,\"#7201a8\"],[0.3333333333333333,\"#9c179e\"],[0.4444444444444444,\"#bd3786\"],[0.5555555555555556,\"#d8576b\"],[0.6666666666666666,\"#ed7953\"],[0.7777777777777778,\"#fb9f3a\"],[0.8888888888888888,\"#fdca26\"],[1.0,\"#f0f921\"]]}],\"mesh3d\":[{\"type\":\"mesh3d\",\"colorbar\":{\"outlinewidth\":0,\"ticks\":\"\"}}],\"scatter\":[{\"fillpattern\":{\"fillmode\":\"overlay\",\"size\":10,\"solidity\":0.2},\"type\":\"scatter\"}],\"parcoords\":[{\"type\":\"parcoords\",\"line\":{\"colorbar\":{\"outlinewidth\":0,\"ticks\":\"\"}}}],\"scatterpolargl\":[{\"type\":\"scatterpolargl\",\"marker\":{\"colorbar\":{\"outlinewidth\":0,\"ticks\":\"\"}}}],\"bar\":[{\"error_x\":{\"color\":\"#2a3f5f\"},\"error_y\":{\"color\":\"#2a3f5f\"},\"marker\":{\"line\":{\"color\":\"#E5ECF6\",\"width\":0.5},\"pattern\":{\"fillmode\":\"overlay\",\"size\":10,\"solidity\":0.2}},\"type\":\"bar\"}],\"scattergeo\":[{\"type\":\"scattergeo\",\"marker\":{\"colorbar\":{\"outlinewidth\":0,\"ticks\":\"\"}}}],\"scatterpolar\":[{\"type\":\"scatterpolar\",\"marker\":{\"colorbar\":{\"outlinewidth\":0,\"ticks\":\"\"}}}],\"histogram\":[{\"marker\":{\"pattern\":{\"fillmode\":\"overlay\",\"size\":10,\"solidity\":0.2}},\"type\":\"histogram\"}],\"scattergl\":[{\"type\":\"scattergl\",\"marker\":{\"colorbar\":{\"outlinewidth\":0,\"ticks\":\"\"}}}],\"scatter3d\":[{\"type\":\"scatter3d\",\"line\":{\"colorbar\":{\"outlinewidth\":0,\"ticks\":\"\"}},\"marker\":{\"colorbar\":{\"outlinewidth\":0,\"ticks\":\"\"}}}],\"scattermapbox\":[{\"type\":\"scattermapbox\",\"marker\":{\"colorbar\":{\"outlinewidth\":0,\"ticks\":\"\"}}}],\"scatterternary\":[{\"type\":\"scatterternary\",\"marker\":{\"colorbar\":{\"outlinewidth\":0,\"ticks\":\"\"}}}],\"scattercarpet\":[{\"type\":\"scattercarpet\",\"marker\":{\"colorbar\":{\"outlinewidth\":0,\"ticks\":\"\"}}}],\"carpet\":[{\"aaxis\":{\"endlinecolor\":\"#2a3f5f\",\"gridcolor\":\"white\",\"linecolor\":\"white\",\"minorgridcolor\":\"white\",\"startlinecolor\":\"#2a3f5f\"},\"baxis\":{\"endlinecolor\":\"#2a3f5f\",\"gridcolor\":\"white\",\"linecolor\":\"white\",\"minorgridcolor\":\"white\",\"startlinecolor\":\"#2a3f5f\"},\"type\":\"carpet\"}],\"table\":[{\"cells\":{\"fill\":{\"color\":\"#EBF0F8\"},\"line\":{\"color\":\"white\"}},\"header\":{\"fill\":{\"color\":\"#C8D4E3\"},\"line\":{\"color\":\"white\"}},\"type\":\"table\"}],\"barpolar\":[{\"marker\":{\"line\":{\"color\":\"#E5ECF6\",\"width\":0.5},\"pattern\":{\"fillmode\":\"overlay\",\"size\":10,\"solidity\":0.2}},\"type\":\"barpolar\"}],\"pie\":[{\"automargin\":true,\"type\":\"pie\"}]},\"layout\":{\"autotypenumbers\":\"strict\",\"colorway\":[\"#636efa\",\"#EF553B\",\"#00cc96\",\"#ab63fa\",\"#FFA15A\",\"#19d3f3\",\"#FF6692\",\"#B6E880\",\"#FF97FF\",\"#FECB52\"],\"font\":{\"color\":\"#2a3f5f\"},\"hovermode\":\"closest\",\"hoverlabel\":{\"align\":\"left\"},\"paper_bgcolor\":\"white\",\"plot_bgcolor\":\"#E5ECF6\",\"polar\":{\"bgcolor\":\"#E5ECF6\",\"angularaxis\":{\"gridcolor\":\"white\",\"linecolor\":\"white\",\"ticks\":\"\"},\"radialaxis\":{\"gridcolor\":\"white\",\"linecolor\":\"white\",\"ticks\":\"\"}},\"ternary\":{\"bgcolor\":\"#E5ECF6\",\"aaxis\":{\"gridcolor\":\"white\",\"linecolor\":\"white\",\"ticks\":\"\"},\"baxis\":{\"gridcolor\":\"white\",\"linecolor\":\"white\",\"ticks\":\"\"},\"caxis\":{\"gridcolor\":\"white\",\"linecolor\":\"white\",\"ticks\":\"\"}},\"coloraxis\":{\"colorbar\":{\"outlinewidth\":0,\"ticks\":\"\"}},\"colorscale\":{\"sequential\":[[0.0,\"#0d0887\"],[0.1111111111111111,\"#46039f\"],[0.2222222222222222,\"#7201a8\"],[0.3333333333333333,\"#9c179e\"],[0.4444444444444444,\"#bd3786\"],[0.5555555555555556,\"#d8576b\"],[0.6666666666666666,\"#ed7953\"],[0.7777777777777778,\"#fb9f3a\"],[0.8888888888888888,\"#fdca26\"],[1.0,\"#f0f921\"]],\"sequentialminus\":[[0.0,\"#0d0887\"],[0.1111111111111111,\"#46039f\"],[0.2222222222222222,\"#7201a8\"],[0.3333333333333333,\"#9c179e\"],[0.4444444444444444,\"#bd3786\"],[0.5555555555555556,\"#d8576b\"],[0.6666666666666666,\"#ed7953\"],[0.7777777777777778,\"#fb9f3a\"],[0.8888888888888888,\"#fdca26\"],[1.0,\"#f0f921\"]],\"diverging\":[[0,\"#8e0152\"],[0.1,\"#c51b7d\"],[0.2,\"#de77ae\"],[0.3,\"#f1b6da\"],[0.4,\"#fde0ef\"],[0.5,\"#f7f7f7\"],[0.6,\"#e6f5d0\"],[0.7,\"#b8e186\"],[0.8,\"#7fbc41\"],[0.9,\"#4d9221\"],[1,\"#276419\"]]},\"xaxis\":{\"gridcolor\":\"white\",\"linecolor\":\"white\",\"ticks\":\"\",\"title\":{\"standoff\":15},\"zerolinecolor\":\"white\",\"automargin\":true,\"zerolinewidth\":2},\"yaxis\":{\"gridcolor\":\"white\",\"linecolor\":\"white\",\"ticks\":\"\",\"title\":{\"standoff\":15},\"zerolinecolor\":\"white\",\"automargin\":true,\"zerolinewidth\":2},\"scene\":{\"xaxis\":{\"backgroundcolor\":\"#E5ECF6\",\"gridcolor\":\"white\",\"linecolor\":\"white\",\"showbackground\":true,\"ticks\":\"\",\"zerolinecolor\":\"white\",\"gridwidth\":2},\"yaxis\":{\"backgroundcolor\":\"#E5ECF6\",\"gridcolor\":\"white\",\"linecolor\":\"white\",\"showbackground\":true,\"ticks\":\"\",\"zerolinecolor\":\"white\",\"gridwidth\":2},\"zaxis\":{\"backgroundcolor\":\"#E5ECF6\",\"gridcolor\":\"white\",\"linecolor\":\"white\",\"showbackground\":true,\"ticks\":\"\",\"zerolinecolor\":\"white\",\"gridwidth\":2}},\"shapedefaults\":{\"line\":{\"color\":\"#2a3f5f\"}},\"annotationdefaults\":{\"arrowcolor\":\"#2a3f5f\",\"arrowhead\":0,\"arrowwidth\":1},\"geo\":{\"bgcolor\":\"white\",\"landcolor\":\"#E5ECF6\",\"subunitcolor\":\"white\",\"showland\":true,\"showlakes\":true,\"lakecolor\":\"white\"},\"title\":{\"x\":0.05},\"mapbox\":{\"style\":\"light\"}}},\"xaxis\":{\"anchor\":\"y\",\"domain\":[0.0,1.0],\"title\":{\"text\":\"Machine Learning Model\"},\"categoryorder\":\"array\",\"categoryarray\":[\"RF\",\"Bagging\",\"XGB\"]},\"yaxis\":{\"anchor\":\"x\",\"domain\":[0.0,1.0],\"title\":{\"text\":\"ROC-AUC Score\"}},\"legend\":{\"title\":{\"text\":\"Machine Learning Model\"},\"tracegroupgap\":0},\"title\":{\"text\":\"Model Performance\"},\"boxmode\":\"overlay\"},                        {\"responsive\": true}                    ).then(function(){\n",
              "                            \n",
              "var gd = document.getElementById('303ff828-f5a3-4d7d-b38c-96b7192e8904');\n",
              "var x = new MutationObserver(function (mutations, observer) {{\n",
              "        var display = window.getComputedStyle(gd).display;\n",
              "        if (!display || display === 'none') {{\n",
              "            console.log([gd, 'removed!']);\n",
              "            Plotly.purge(gd);\n",
              "            observer.disconnect();\n",
              "        }}\n",
              "}});\n",
              "\n",
              "// Listen for the removal of the full notebook cells\n",
              "var notebookContainer = gd.closest('#notebook-container');\n",
              "if (notebookContainer) {{\n",
              "    x.observe(notebookContainer, {childList: true});\n",
              "}}\n",
              "\n",
              "// Listen for the clearing of the current output cell\n",
              "var outputEl = gd.closest('.output');\n",
              "if (outputEl) {{\n",
              "    x.observe(outputEl, {childList: true});\n",
              "}}\n",
              "\n",
              "                        })                };                            </script>        </div>\n",
              "</body>\n",
              "</html>"
            ]
          },
          "metadata": {}
        }
      ],
      "source": [
        "# store results in a df for future use\n",
        "classmod_g2 = pd.DataFrame(np.transpose(results_g2), columns = ['RF', 'Bagging', 'XGB'])\n",
        "classmod_g2 = pd.melt(classmod_g2.reset_index(), id_vars='index',value_vars=['RF', 'Bagging', 'XGB'])\n",
        "\n",
        "# create boxplot to compare the performance of all models in order to select the best classifier\n",
        "fig_g2 = px.box(classmod_g2, x=\"variable\", y=\"value\",color=\"variable\",points='all',\n",
        "labels={\"variable\": \"Machine Learning Model\",\n",
        "        \"value\": \"ROC-AUC Score\"\n",
        "        },title=\"Model Performance\")\n",
        "\n",
        "file_path = '/content/drive/MyDrive/Colab Notebooks/hw3/boxplot1.html'\n",
        "pyo.plot(fig_g2, filename=file_path, auto_open=False)\n",
        "\n",
        "fig_g2.show();"
      ]
    },
    {
      "cell_type": "markdown",
      "source": [
        "Based on the boxplots, Random Forests and XGBoost both appear to perform relatively similarly, followed by Bagging. However, based on the average and standard deviations in ROC-AUC score, Random Forests seem to slightly outperform XGBoost, so we'll proceed with Random Forests."
      ],
      "metadata": {
        "id": "SMU3Z7H_DlcM"
      },
      "id": "SMU3Z7H_DlcM"
    },
    {
      "cell_type": "markdown",
      "id": "b3ea4586",
      "metadata": {
        "id": "b3ea4586"
      },
      "source": [
        "# 8. Classification with GridSearchCV (8 Points):"
      ]
    },
    {
      "cell_type": "code",
      "execution_count": 30,
      "id": "367dd96b",
      "metadata": {
        "colab": {
          "base_uri": "https://localhost:8080/"
        },
        "id": "367dd96b",
        "outputId": "a32b6a9e-456b-4412-f69f-c9b3023f57be"
      },
      "outputs": [
        {
          "output_type": "stream",
          "name": "stdout",
          "text": [
            "Best Score: 0.9290677768857134\n",
            "Best Hyperparameters: {'max_depth': 10, 'min_samples_leaf': 4, 'min_samples_split': 4, 'n_estimators': 200}\n"
          ]
        }
      ],
      "source": [
        "# define best model\n",
        "model_g2 = RandomForestClassifier()\n",
        "\n",
        "# define search space\n",
        "space_g2 = dict()\n",
        "space_g2['n_estimators'] = [100, 150, 200]\n",
        "space_g2['max_depth'] = [None, 5, 10]\n",
        "space_g2['min_samples_split'] = [2, 4, 8]\n",
        "space_g2['min_samples_leaf'] = [2, 4, 8]\n",
        "\n",
        "# define CV evaluation\n",
        "cv_g2 = RepeatedStratifiedKFold(n_splits=5, n_repeats=3, random_state=1859) # reduced to 5x3 b/c taking WAAAAAY too long\n",
        "\n",
        "# define grid search\n",
        "search_g2 = GridSearchCV(model_g2, space_g2, scoring='roc_auc', n_jobs=-1, cv=cv_g2)\n",
        "\n",
        "# fit grid search\n",
        "result_g2 = search_g2.fit(X_train_g2, y_train_g2.ravel())\n",
        "\n",
        "# summarize results\n",
        "print('Best Score: %s' % result_g2.best_score_)\n",
        "print('Best Hyperparameters: %s' % result_g2.best_params_)"
      ]
    },
    {
      "cell_type": "code",
      "source": [
        "# get mean and standard deviation of the scores\n",
        "mean_scores = result_g2.cv_results_['mean_test_score']\n",
        "std_scores = result_g2.cv_results_['std_test_score']\n",
        "\n",
        "# find the index of best hyperparams\n",
        "best_index = np.argmax(mean_scores)\n",
        "\n",
        "print('Best Mean Score: %s' % mean_scores[best_index])\n",
        "print('Standard Deviation of Best Score: %s' % std_scores[best_index])"
      ],
      "metadata": {
        "colab": {
          "base_uri": "https://localhost:8080/"
        },
        "id": "1NwktwYxolqH",
        "outputId": "b349291b-27df-43dc-ca62-203b1f3110c9"
      },
      "id": "1NwktwYxolqH",
      "execution_count": 31,
      "outputs": [
        {
          "output_type": "stream",
          "name": "stdout",
          "text": [
            "Best Mean Score: 0.9290677768857134\n",
            "Standard Deviation of Best Score: 0.006745962484377069\n"
          ]
        }
      ]
    },
    {
      "cell_type": "markdown",
      "id": "5a0a0295",
      "metadata": {
        "id": "5a0a0295"
      },
      "source": [
        "# 9. Classification with RandomSearchCV (8 Points):"
      ]
    },
    {
      "cell_type": "code",
      "execution_count": 32,
      "id": "c80fabcd",
      "metadata": {
        "colab": {
          "base_uri": "https://localhost:8080/"
        },
        "id": "c80fabcd",
        "outputId": "fec9dcca-7e23-4b88-b097-5fc73b3103ad"
      },
      "outputs": [
        {
          "output_type": "stream",
          "name": "stdout",
          "text": [
            "Best Score: 0.9286266319809725\n",
            "Best Hyperparameters: {'n_estimators': 200, 'min_samples_split': 8, 'min_samples_leaf': 8, 'max_depth': 10}\n"
          ]
        }
      ],
      "source": [
        "# define random search\n",
        "search_g2 = RandomizedSearchCV(model_g2, space_g2, scoring='roc_auc', n_jobs=-1, cv=cv_g2, random_state=1859)\n",
        "\n",
        "# fit random search\n",
        "result_g2 = search_g2.fit(X_train_g2, y_train_g2.ravel())\n",
        "\n",
        "# summarize result\n",
        "print('Best Score: %s' % result_g2.best_score_)\n",
        "print('Best Hyperparameters: %s' % result_g2.best_params_)"
      ]
    },
    {
      "cell_type": "code",
      "source": [
        "# get mean and standard deviation of the scores\n",
        "mean_scores = result_g2.cv_results_['mean_test_score']\n",
        "std_scores = result_g2.cv_results_['std_test_score']\n",
        "\n",
        "# find the index of best hyperparams\n",
        "best_index = np.argmax(mean_scores)\n",
        "\n",
        "print('Best Mean Score: %s' % mean_scores[best_index])\n",
        "print('Standard Deviation of Best Score: %s' % std_scores[best_index])"
      ],
      "metadata": {
        "colab": {
          "base_uri": "https://localhost:8080/"
        },
        "id": "zmxMnJbQoqhK",
        "outputId": "d9de92ca-bb60-4b73-8a79-7e7dd9adab06"
      },
      "id": "zmxMnJbQoqhK",
      "execution_count": 33,
      "outputs": [
        {
          "output_type": "stream",
          "name": "stdout",
          "text": [
            "Best Mean Score: 0.9286266319809725\n",
            "Standard Deviation of Best Score: 0.006980590340529654\n"
          ]
        }
      ]
    },
    {
      "cell_type": "markdown",
      "id": "a7adb7cf",
      "metadata": {
        "id": "a7adb7cf"
      },
      "source": [
        "# 10. Comparison and Analysis (5 Points):"
      ]
    },
    {
      "cell_type": "markdown",
      "source": [
        "Compare the results from Q2, Q3, and Q4. Describe the best hyperparameters for all three experiments."
      ],
      "metadata": {
        "id": "4OGhcEppnsIi"
      },
      "id": "4OGhcEppnsIi"
    },
    {
      "cell_type": "markdown",
      "source": [
        "Our best performing model among Random Forests, XGBoost, and Bagging was the Random Forest Classifier.\n",
        "\n",
        "The initial Random Forest Classifier simply had `n_estimators=100`, netting an ROC-AUC score of...\n",
        "\n",
        "Using the hyperparameters from GridSearchCV of..., the model resulted in an ROC-AUC score of...\n",
        "\n",
        "Lastly, the hyperparameters from RandomSearchCV of... resulted in an ROC-AUC score of...\n",
        "\n",
        "As a result, the best set of hyperparameters was..."
      ],
      "metadata": {
        "id": "2l-LWcAHoIPC"
      },
      "id": "2l-LWcAHoIPC"
    }
  ],
  "metadata": {
    "kernelspec": {
      "display_name": "Python 3 (ipykernel)",
      "language": "python",
      "name": "python3"
    },
    "language_info": {
      "codemirror_mode": {
        "name": "ipython",
        "version": 3
      },
      "file_extension": ".py",
      "mimetype": "text/x-python",
      "name": "python",
      "nbconvert_exporter": "python",
      "pygments_lexer": "ipython3",
      "version": "3.8.12"
    },
    "colab": {
      "provenance": []
    }
  },
  "nbformat": 4,
  "nbformat_minor": 5
}